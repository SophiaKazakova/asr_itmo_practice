{
 "cells": [
  {
   "cell_type": "markdown",
   "id": "04d0eabe",
   "metadata": {},
   "source": [
    "# Языковые модели\n",
    "\n",
    "Языковые модели играют важную роль в системах распознавания речи, помогая создавать более грамотные и лексически корректные тексты. В данной работе мы будем изучать нграмные языковые модели, которые позволяют довольно легко оценить вероятность и правдоподобность текста.\n",
    "\n",
    "В нграмной языковой модели, нграм - это последовательность из n слов в тексте. Например, в предложении \"по-моему мы сэкономим уйму времени если я сойду с ума прямо сейчас\", биграмами будут \"по-моему мы\", \"мы сэкономим\", \"сэкономим уйму\" итд. Языковые модели оценивают вероятность появления последовательности слов, исходя из статистики появления каждого из нграм в обучающей выборке.\n",
    "\n",
    "Порядком (order) нграм языковой модели называют максимальную длину нграм, которую учитывает модель. \n",
    "\n",
    "Практическая работа разделена на 2 части: \n",
    "1. Построение нграмой языковой модели - основная часть, 12 баллов\n",
    "1. Предсказание с помощью языковой модели - дополнительная часть, 4 балла\n",
    "\n",
    "\n",
    "\n",
    "Полезные сслыки:\n",
    "* arpa формат - https://cmusphinx.github.io/wiki/arpaformat/\n",
    "* обучающие материалы - https://pages.ucsd.edu/~rlevy/teaching/2015winter/lign165/lectures/lecture13/lecture13_ngrams_with_SRILM.pdf\n",
    "* обучающие материалы.2 - https://cjlise.github.io/machine-learning/N-Gram-Language-Model/"
   ]
  },
  {
   "cell_type": "code",
   "execution_count": 42,
   "id": "4bd5c324",
   "metadata": {},
   "outputs": [],
   "source": [
    "import numpy as np\n",
    "from collections import defaultdict\n",
    "from typing import List, Dict, Tuple"
   ]
  },
  {
   "cell_type": "markdown",
   "id": "b0c1c1d7",
   "metadata": {},
   "source": [
    "# 1. Построение нграмной языковой модели. (12 баллов)\n",
    "\n",
    "\n",
    "Вероятность текста с помощью нграмной языковой модели можно вычислить по формуле: \n",
    "$$ P(w_1, w_2, .., w_n) = {\\prod{{P_{i=0}^{n}(w_i| w_{i-order}, .., w_{i-1})}}} $$\n",
    "\n",
    "В простом виде, при обучении нграмной языковой модели, чтобы рассчитать условную вероятность каждой нграмы, используется формула, основанная на количестве появлений нграмы в обучающей выборке. Формула выглядит следующим образом:\n",
    "$$ P(w_i| w_{i-order}, .., w_{i-1}) = {{count(w_{i-order}, .., w_{i})} \\over {count(w_{i-order},..., w_{i-1})}} $$\n",
    "\n",
    "Поскольку униграмы не содержат в себе какого-дибо контекста, вероятность униграмы можно посчитать поделив кол-во этой слова на общее количество слов в обучающей выборке. \n"
   ]
  },
  {
   "cell_type": "code",
   "execution_count": 43,
   "id": "5837fe90",
   "metadata": {},
   "outputs": [],
   "source": [
    "# в первую очередь нам понадобится подсчитать статистику по обучающей выборке \n",
    "def count_ngrams(train_text: List[str], order=3, bos=True, eos=True) -> Dict[Tuple[str], int]:\n",
    "    ngrams = defaultdict(int)\n",
    "    \n",
    "    # TODO реализуйте функцию, которая подсчитывает все 1-gram 2-gram ... order-gram ngram'ы в тексте\n",
    "    for phrase in train_text:\n",
    "        words = phrase.strip().split(' ')\n",
    "        if bos:\n",
    "            words = ['<s>'] + words\n",
    "        if eos:\n",
    "            words = words + ['</s>']\n",
    "\n",
    "        for ord in range(1, order+1):\n",
    "            for start in range(len(words)-ord+1):\n",
    "                gram = tuple(words[start:start+ord])\n",
    "                if gram not in ngrams:\n",
    "                    ngrams[gram] = 1\n",
    "                else:\n",
    "                    ngrams[gram] += 1\n",
    "    # \n",
    "    return dict(ngrams)"
   ]
  },
  {
   "cell_type": "code",
   "execution_count": 44,
   "id": "39b20998-8ad8-4715-96c5-0a51b0226428",
   "metadata": {},
   "outputs": [
    {
     "data": {
      "text/plain": [
       "{('<s>',): 1, ('привет',): 2, ('как',): 1, ('дела',): 1, ('</s>',): 1}"
      ]
     },
     "execution_count": 44,
     "metadata": {},
     "output_type": "execute_result"
    }
   ],
   "source": [
    "count_ngrams(['привет привет как дела'], order=1, bos=True, eos=True)"
   ]
  },
  {
   "cell_type": "code",
   "execution_count": 45,
   "id": "fd69d44d",
   "metadata": {},
   "outputs": [
    {
     "name": "stdout",
     "output_type": "stream",
     "text": [
      "Test 1a passed\n"
     ]
    }
   ],
   "source": [
    "def test_count_ngrams():\n",
    "    assert count_ngrams(['привет привет как дела'], order=1, bos=True, eos=True) == {\n",
    "        ('<s>',): 1, \n",
    "        ('привет',): 2, \n",
    "        ('как',): 1, \n",
    "        ('дела',): 1, \n",
    "        ('</s>',): 1\n",
    "    }\n",
    "    assert count_ngrams(['привет привет как дела'], order=1, bos=False, eos=True) == {\n",
    "        ('привет',): 2, \n",
    "        ('как',): 1, \n",
    "        ('дела',): 1, \n",
    "        ('</s>',): 1\n",
    "    }\n",
    "    assert count_ngrams(['привет привет как дела'], order=1, bos=False, eos=False) == {\n",
    "        ('привет',): 2, \n",
    "        ('как',): 1, \n",
    "        ('дела',): 1\n",
    "    }\n",
    "    assert count_ngrams(['привет привет как дела'], order=2, bos=False, eos=False) == {\n",
    "        ('привет',): 2, \n",
    "        ('как',): 1, \n",
    "        ('дела',): 1,\n",
    "        ('привет', 'привет'): 1,\n",
    "        ('привет', 'как'): 1,\n",
    "        ('как', 'дела'): 1\n",
    "    }    \n",
    "    assert count_ngrams(['привет ' * 6], order=2, bos=False, eos=False) == {\n",
    "        ('привет',): 6, \n",
    "        ('привет', 'привет'): 5\n",
    "    }\n",
    "    result = count_ngrams(['практическое сентября',\n",
    "                           'второе практическое занятие пройдет в офлайне 32 сентября в 12 часов 32 минуты',\n",
    "                           'в офлайне в 32 12'], order=5)\n",
    "    assert result[('<s>',)] == 3\n",
    "    assert result[('32',)] == 3\n",
    "    assert result[('<s>', 'в', 'офлайне', 'в', '32')] == 1\n",
    "    assert result[('офлайне', 'в', '32', '12', '</s>')] == 1\n",
    "    print('Test 1a passed')\n",
    "    \n",
    "    \n",
    "test_count_ngrams()  "
   ]
  },
  {
   "cell_type": "markdown",
   "id": "ac6e1865",
   "metadata": {},
   "source": [
    "\n",
    "Простой подход к вычислению вероятностей через количество нграм имеет существенный недостаток. Если в тексте встретится нграмма, которой не было в обучающей выборке, то вероятность всего текста будет равна нулю. \n",
    "\n",
    "Чтобы избежать данного недостатка, вводится специальное сглаживание - [сглаживание Лапласа](https://en.wikipedia.org/wiki/Additive_smoothing). Данная техника позволяет учитывать нграмы, не встретившиеся в обучающей выборке, и при этом не делает вероятность текста равной нулю.\n",
    "\n",
    "Формула сглаживания Лапласа выглядит следующим образом:\n",
    "\n",
    "$$ P(w_i| w_{i-order}, .., w_{i-1}) = {{count(w_{i-order}, .., w_{i}) + k} \\over {count(w_{i-order},..., w_{i-1}) + k*V}} $$\n",
    "\n",
    "Здесь V - количество слов в словаре, а k - гиперпараметр, который контролирует меру сглаживания. Как правило, значение k выбирается экспериментально, чтобы найти оптимальный баланс между учетом редких нграм и сохранением вероятности для часто встречающихся нграм.\n"
   ]
  },
  {
   "cell_type": "code",
   "execution_count": 46,
   "id": "b934647e-0532-47ab-9128-2fd7052952b3",
   "metadata": {},
   "outputs": [
    {
     "data": {
      "text/plain": [
       "{('<s>',): 3,\n",
       " ('практическое',): 2,\n",
       " ('сентября',): 2,\n",
       " ('</s>',): 3,\n",
       " ('<s>', 'практическое'): 1,\n",
       " ('практическое', 'сентября'): 1,\n",
       " ('сентября', '</s>'): 1,\n",
       " ('<s>', 'практическое', 'сентября'): 1,\n",
       " ('практическое', 'сентября', '</s>'): 1,\n",
       " ('<s>', 'практическое', 'сентября', '</s>'): 1,\n",
       " ('второе',): 1,\n",
       " ('занятие',): 1,\n",
       " ('в',): 4,\n",
       " ('офлайне',): 2,\n",
       " ('32',): 3,\n",
       " ('12',): 2,\n",
       " ('часов',): 1,\n",
       " ('минуты',): 1,\n",
       " ('<s>', 'второе'): 1,\n",
       " ('второе', 'практическое'): 1,\n",
       " ('практическое', 'занятие'): 1,\n",
       " ('занятие', 'в'): 1,\n",
       " ('в', 'офлайне'): 2,\n",
       " ('офлайне', '32'): 1,\n",
       " ('32', 'сентября'): 1,\n",
       " ('сентября', 'в'): 1,\n",
       " ('в', '12'): 1,\n",
       " ('12', 'часов'): 1,\n",
       " ('часов', '32'): 1,\n",
       " ('32', 'минуты'): 1,\n",
       " ('минуты', '</s>'): 1,\n",
       " ('<s>', 'второе', 'практическое'): 1,\n",
       " ('второе', 'практическое', 'занятие'): 1,\n",
       " ('практическое', 'занятие', 'в'): 1,\n",
       " ('занятие', 'в', 'офлайне'): 1,\n",
       " ('в', 'офлайне', '32'): 1,\n",
       " ('офлайне', '32', 'сентября'): 1,\n",
       " ('32', 'сентября', 'в'): 1,\n",
       " ('сентября', 'в', '12'): 1,\n",
       " ('в', '12', 'часов'): 1,\n",
       " ('12', 'часов', '32'): 1,\n",
       " ('часов', '32', 'минуты'): 1,\n",
       " ('32', 'минуты', '</s>'): 1,\n",
       " ('<s>', 'второе', 'практическое', 'занятие'): 1,\n",
       " ('второе', 'практическое', 'занятие', 'в'): 1,\n",
       " ('практическое', 'занятие', 'в', 'офлайне'): 1,\n",
       " ('занятие', 'в', 'офлайне', '32'): 1,\n",
       " ('в', 'офлайне', '32', 'сентября'): 1,\n",
       " ('офлайне', '32', 'сентября', 'в'): 1,\n",
       " ('32', 'сентября', 'в', '12'): 1,\n",
       " ('сентября', 'в', '12', 'часов'): 1,\n",
       " ('в', '12', 'часов', '32'): 1,\n",
       " ('12', 'часов', '32', 'минуты'): 1,\n",
       " ('часов', '32', 'минуты', '</s>'): 1,\n",
       " ('<s>', 'в'): 1,\n",
       " ('офлайне', 'в'): 1,\n",
       " ('в', '32'): 1,\n",
       " ('32', '12'): 1,\n",
       " ('12', '</s>'): 1,\n",
       " ('<s>', 'в', 'офлайне'): 1,\n",
       " ('в', 'офлайне', 'в'): 1,\n",
       " ('офлайне', 'в', '32'): 1,\n",
       " ('в', '32', '12'): 1,\n",
       " ('32', '12', '</s>'): 1,\n",
       " ('<s>', 'в', 'офлайне', 'в'): 1,\n",
       " ('в', 'офлайне', 'в', '32'): 1,\n",
       " ('офлайне', 'в', '32', '12'): 1,\n",
       " ('в', '32', '12', '</s>'): 1}"
      ]
     },
     "execution_count": 46,
     "metadata": {},
     "output_type": "execute_result"
    }
   ],
   "source": [
    "count_ngrams(['практическое сентября',\n",
    "                           'второе практическое занятие в офлайне 32 сентября в 12 часов 32 минуты',\n",
    "                           'в офлайне в 32 12'], order=4)"
   ]
  },
  {
   "cell_type": "code",
   "execution_count": 83,
   "id": "4cafb4b8",
   "metadata": {},
   "outputs": [],
   "source": [
    "# функция подсчета вероятности через количество со сглаживанием Лапласа\n",
    "def calculate_ngram_prob(ngram: Tuple[str], counts: Dict[Tuple[str], int], V=None, k=0) -> float:\n",
    "    # подсчитывет ngram со сглаживанием Лапласа\n",
    "    # V --- мощность словаря, количество уникальных слов в обучающей выборке\n",
    "    V = 0\n",
    "    for gram in counts:\n",
    "        if len(gram) == 1: V += 1\n",
    "    counts = defaultdict(int, counts)\n",
    "    if ngram not in counts:\n",
    "        num = k\n",
    "    else:\n",
    "        num = counts[ngram] + k\n",
    "\n",
    "    if len(ngram) == 1:\n",
    "        den = sum(value for key, value in counts.items() if len(key) == 1) + k*V\n",
    "    else:\n",
    "        den = counts[ngram[:-1]] + k * V\n",
    "\n",
    "    prob = num/den\n",
    "\n",
    "    return prob"
   ]
  },
  {
   "cell_type": "code",
   "execution_count": 86,
   "id": "60b25d7f",
   "metadata": {},
   "outputs": [
    {
     "name": "stdout",
     "output_type": "stream",
     "text": [
      "Test 1.b passed\n"
     ]
    }
   ],
   "source": [
    "def test_calculate_ngram_prob():\n",
    "    counts = count_ngrams(['практическое сентября',\n",
    "                           'второе практическое занятие в офлайне 32 сентября в 12 часов 32 минуты',\n",
    "                           'в офлайне в 32 12'], order=4)\n",
    "    assert calculate_ngram_prob(('в', 'офлайне'), counts) == 0.5\n",
    "    assert calculate_ngram_prob(('в', ), counts) == 4/25\n",
    "    assert calculate_ngram_prob(('в', ), counts, k=0.5) == (4+0.5)/(25+0.5*12)\n",
    "    assert calculate_ngram_prob(('в', 'офлайне', 'в', '32'), counts) == 1.0\n",
    "    assert calculate_ngram_prob(('в', 'офлайне'), counts, k=1) == 0.1875\n",
    "    assert calculate_ngram_prob(('в', 'офлайне'), counts, k=0.5) == 0.25\n",
    "    assert calculate_ngram_prob(('в', 'онлайне'), counts, k=0) == 0.0\n",
    "    assert calculate_ngram_prob(('в', 'онлайне'), counts, k=1) == 0.0625\n",
    "    assert calculate_ngram_prob(('в', 'офлайне'), counts, k=0.5) == 0.25\n",
    "\n",
    "    print(\"Test 1.b passed\")\n",
    "    \n",
    "\n",
    "test_calculate_ngram_prob()  "
   ]
  },
  {
   "cell_type": "markdown",
   "id": "da494bf0",
   "metadata": {},
   "source": [
    "Основной метрикой язковых моделей является перплексия. \n",
    "\n",
    "Перплексия  — безразмерная величина, мера того, насколько хорошо распределение вероятностей предсказывает выборку. Низкий показатель перплексии указывает на то, что распределение вероятности хорошо предсказывает выборку.\n",
    "\n",
    "$$ ppl = {P(w_1, w_2 ,..., w_N)^{- {1} \\over {N}}} $$\n"
   ]
  },
  {
   "cell_type": "code",
   "execution_count": 87,
   "id": "4bd1f2e5",
   "metadata": {},
   "outputs": [],
   "source": [
    "# Языковая модель \n",
    "class NgramLM:\n",
    "    def __init__(self, order=3, bos=True, eos=True, k=1, predefined_vocab=None):\n",
    "        self.order = order\n",
    "        self.eos = eos\n",
    "        self.bos = bos\n",
    "        self.k = k\n",
    "        self.vocab = predefined_vocab\n",
    "        self.ngrams_count = None\n",
    "        \n",
    "    @property\n",
    "    def V(self) -> int:\n",
    "        return len(self.vocab)\n",
    "    \n",
    "    def fit(self, train_text: List[str]) -> None:\n",
    "        # Подсчет vocab и ngrams_count по обучающей выборке\n",
    "        self.ngrams_count = count_ngrams(train_text)\n",
    "        self.vocab = [gram for gram in self.ngrams_count if len(gram) == 1]\n",
    "    \n",
    "    def predict_ngram_log_proba(self, ngram: Tuple[str]) -> float:\n",
    "        # TODO \n",
    "        prob = np.log(calculate_ngram_prob(ngram, self.ngrams_count, k=self.k))\n",
    "        return prob\n",
    "        # считаем логарифм вероятности конкретной нграмы\n",
    "           \n",
    "    def predict_log_proba(self, words: List[str]) -> float:\n",
    "        if self.bos:\n",
    "            words = ['<s>'] + words\n",
    "        if self.eos:\n",
    "            words = words + ['</s>']\n",
    "        logprob = 0\n",
    "        # TODO \n",
    "        N = 0\n",
    "\n",
    "        for tail in range(len(words)):\n",
    "            start = tail - self.order + 1 if self.order < tail + 1 else 0\n",
    "            logprob += self.predict_ngram_log_proba(tuple(words[start:tail+1]))\n",
    "            \n",
    "            N += 1\n",
    "\n",
    "        # применяем chain rule, чтобы посчитать логарифм вероятности всей строки\n",
    "        return logprob/N\n",
    "        \n",
    "    def ppl(self, text: List[str]) -> float:\n",
    "        #TODO \n",
    "        # подсчет перплексии\n",
    "        # Для того, чтобы ваш код был численно стабильным, \n",
    "        #    не считайте формулу напрямую, а воспользуйтесь переходом к логарифмам вероятностей\n",
    "        #perplexity = 0\n",
    "        \n",
    "        probas = []\n",
    "        \n",
    "        for sentence in text:\n",
    "            words = sentence.split()\n",
    "            probas.append(self.predict_log_proba(words))    \n",
    "    \n",
    "        perplexity = np.exp(-np.mean(probas))\n",
    "        \n",
    "        return perplexity"
   ]
  },
  {
   "cell_type": "code",
   "execution_count": 88,
   "id": "bb0bfe64",
   "metadata": {},
   "outputs": [],
   "source": [
    "def test_lm():\n",
    "    train_data = [\"по-моему мы сэкономим уйму времени если я сойду с ума прямо сейчас\",\n",
    "                  \"если я сойду с ума прямо сейчас по-моему мы сэкономим уйму времени\",\n",
    "                  \"мы сэкономим уйму времени если я сейчас сойду с ума по-моему\"]\n",
    "    global lm\n",
    "    lm = NgramLM(order=2)\n",
    "    lm.fit(train_data)\n",
    "    assert lm.V == 14\n",
    "    assert np.isclose(lm.predict_log_proba(['мы']), lm.predict_log_proba([\"если\"]))\n",
    "    assert lm.predict_log_proba([\"по-моему\"]) > lm.predict_log_proba([\"если\"]) \n",
    "    \n",
    "    gt = ((3+1)/(41 + 14) * 1/(3+14))**(-1/2)\n",
    "    ppl = lm.ppl([''])\n",
    "    assert  np.isclose(ppl, gt), f\"{ppl=} {gt=}\"\n",
    "    \n",
    "    gt = ((3+1)/(41 + 14) * 1/(3+14) * 1/(14)) ** (-1/3)\n",
    "    ppl = lm.ppl(['ЧТО'])\n",
    "    assert  np.isclose(ppl, gt), f\"{ppl=} {gt=}\"\n",
    "    \n",
    "    test_data = [\"по-моему если я прямо сейчас сойду с ума мы сэкономим уйму времени\"]\n",
    "    ppl = lm.ppl(test_data)\n",
    "    assert round(ppl, 2) == 7.33, f\"{ppl}\"\n",
    "test_lm()"
   ]
  },
  {
   "cell_type": "code",
   "execution_count": 89,
   "id": "9e32f1f8-f23f-4bbf-80ac-975389312910",
   "metadata": {},
   "outputs": [],
   "source": [
    "#https://paulapivat.medium.com/defaultdict-4e33767ee119"
   ]
  },
  {
   "cell_type": "markdown",
   "id": "edafa0a2",
   "metadata": {},
   "source": [
    "# 2. Предсказания с помощью языковой модели (4 балла)"
   ]
  },
  {
   "cell_type": "code",
   "execution_count": 220,
   "id": "85d2eb63",
   "metadata": {},
   "outputs": [],
   "source": [
    "def predict_next_word(lm: NgramLM, prefix: List[str], topk=4):\n",
    "    # TODO реализуйте функцию, которая предсказывает продолжение фразы. \n",
    "    # верните topk наиболее вероятных продолжений фразы prefix \n",
    "\n",
    "    pred_scores = {}\n",
    "        \n",
    "    for word in lm.vocab:\n",
    "        phrase = ' '. join(prefix + [word[0]]) #надо подать строку\n",
    "        pred_scores[word] = lm.ppl([phrase])\n",
    "    \n",
    "    return sorted(pred_scores.items(), key=lambda x: x[1])[:topk]"
   ]
  },
  {
   "cell_type": "code",
   "execution_count": 221,
   "id": "81f27a4b-b89a-4959-a814-e9c9f11f7a51",
   "metadata": {},
   "outputs": [],
   "source": [
    "train_data = ['привет привет как дела',\n",
    "              'практическое сентября',\n",
    "              'второе практическое занятие пройдет в офлайне тридцать второго сентября в двенадцать часов тридцать две минуты',\n",
    "              'в офлайне в тридцать два двенадцать',\n",
    "              'по-моему мы сэкономим уйму времени если я сойду с ума прямо сейчас',\n",
    "              'если я сойду с ума прямо сейчас по-моему мы сэкономим уйму времени',\n",
    "              'мы сэкономим уйму времени если я сейчас сойду с ума по-моему',\n",
    "              'по-моему если я прямо сейчас сойду с ума мы сэкономим уйму времени']"
   ]
  },
  {
   "cell_type": "markdown",
   "id": "3fc4846b",
   "metadata": {},
   "source": [
    "Обучите языковую модель на всем тексте из этой лабораторной работы (не забудьте заранее нормализовать текст).\n",
    "\n",
    "Что предскажет модель по префиксам `по-моему`, `сэкономим`, `нграм` и `вероятности`? "
   ]
  },
  {
   "cell_type": "code",
   "execution_count": 228,
   "id": "dc1a8e7d-7dad-46c4-9e4b-aec7369d73a1",
   "metadata": {},
   "outputs": [],
   "source": [
    "lm = NgramLM(order = 2)\n",
    "lm.fit(train_data)"
   ]
  },
  {
   "cell_type": "code",
   "execution_count": 234,
   "id": "25062b92-5f1a-4590-9cc0-75e59dd7decf",
   "metadata": {},
   "outputs": [],
   "source": [
    "#predict_next_word(lm, ['мы'])"
   ]
  },
  {
   "cell_type": "code",
   "execution_count": 229,
   "id": "107862fe",
   "metadata": {},
   "outputs": [
    {
     "data": {
      "text/plain": [
       "[(('мы',), 16.3446363250503),\n",
       " (('времени',), 16.3446363250503),\n",
       " (('дела',), 17.687585819239324),\n",
       " (('минуты',), 17.687585819239324)]"
      ]
     },
     "execution_count": 229,
     "metadata": {},
     "output_type": "execute_result"
    }
   ],
   "source": [
    "predict_next_word(lm, ['по-моему'])"
   ]
  },
  {
   "cell_type": "code",
   "execution_count": 230,
   "id": "089bfa7a-4f0b-4c9b-b77b-7288ace67875",
   "metadata": {},
   "outputs": [
    {
     "data": {
      "text/plain": [
       "[(('уйму',), 18.93186452668453),\n",
       " (('времени',), 21.510751118558023),\n",
       " (('дела',), 23.278172048567892),\n",
       " (('минуты',), 23.278172048567892)]"
      ]
     },
     "execution_count": 230,
     "metadata": {},
     "output_type": "execute_result"
    }
   ],
   "source": [
    "predict_next_word(lm, ['сэкономим'])"
   ]
  },
  {
   "cell_type": "code",
   "execution_count": 231,
   "id": "3e697295-1bd1-43a4-8a08-67ffa22c482a",
   "metadata": {},
   "outputs": [
    {
     "data": {
      "text/plain": [
       "[(('времени',), 20.867911577546664),\n",
       " (('дела',), 22.582513893591855),\n",
       " (('минуты',), 22.582513893591855),\n",
       " (('сентября',), 22.75690918992883)]"
      ]
     },
     "execution_count": 231,
     "metadata": {},
     "output_type": "execute_result"
    }
   ],
   "source": [
    "predict_next_word(lm, ['нграм'])"
   ]
  },
  {
   "cell_type": "code",
   "execution_count": 232,
   "id": "264d9821-7335-4293-9d78-b91b6e2fa308",
   "metadata": {},
   "outputs": [
    {
     "data": {
      "text/plain": [
       "[(('времени',), 20.867911577546664),\n",
       " (('дела',), 22.582513893591855),\n",
       " (('минуты',), 22.582513893591855),\n",
       " (('сентября',), 22.75690918992883)]"
      ]
     },
     "execution_count": 232,
     "metadata": {},
     "output_type": "execute_result"
    }
   ],
   "source": [
    "predict_next_word(lm, ['вероятности'])"
   ]
  },
  {
   "cell_type": "code",
   "execution_count": null,
   "id": "7dbf8fa6-28cc-414f-85ff-28e40eb56175",
   "metadata": {},
   "outputs": [],
   "source": []
  }
 ],
 "metadata": {
  "kernelspec": {
   "display_name": "Python 3 (ipykernel)",
   "language": "python",
   "name": "python3"
  },
  "language_info": {
   "codemirror_mode": {
    "name": "ipython",
    "version": 3
   },
   "file_extension": ".py",
   "mimetype": "text/x-python",
   "name": "python",
   "nbconvert_exporter": "python",
   "pygments_lexer": "ipython3",
   "version": "3.12.0"
  }
 },
 "nbformat": 4,
 "nbformat_minor": 5
}
